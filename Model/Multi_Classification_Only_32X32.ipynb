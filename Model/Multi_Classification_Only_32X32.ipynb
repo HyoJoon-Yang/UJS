{
 "cells": [
  {
   "cell_type": "markdown",
   "metadata": {
    "id": "x4tQtwkoPnTP"
   },
   "source": [
    "## Google Mount"
   ]
  },
  {
   "cell_type": "code",
   "execution_count": 1,
   "metadata": {
    "colab": {
     "base_uri": "https://localhost:8080/"
    },
    "id": "7WYdhEe173z_",
    "outputId": "1ac4d5f7-bb5c-4efb-ecca-c31be9b45d02",
    "scrolled": true
   },
   "outputs": [
    {
     "ename": "ModuleNotFoundError",
     "evalue": "No module named 'google.colab'",
     "output_type": "error",
     "traceback": [
      "\u001b[0;31m---------------------------------------------------------------------------\u001b[0m",
      "\u001b[0;31mModuleNotFoundError\u001b[0m                       Traceback (most recent call last)",
      "\u001b[0;32m/tmp/ipykernel_89486/1408506528.py\u001b[0m in \u001b[0;36m<module>\u001b[0;34m\u001b[0m\n\u001b[0;32m----> 1\u001b[0;31m \u001b[0;32mfrom\u001b[0m \u001b[0mgoogle\u001b[0m\u001b[0;34m.\u001b[0m\u001b[0mcolab\u001b[0m \u001b[0;32mimport\u001b[0m \u001b[0mdrive\u001b[0m\u001b[0;34m\u001b[0m\u001b[0;34m\u001b[0m\u001b[0m\n\u001b[0m\u001b[1;32m      2\u001b[0m \u001b[0mdrive\u001b[0m\u001b[0;34m.\u001b[0m\u001b[0mmount\u001b[0m\u001b[0;34m(\u001b[0m\u001b[0;34m'/content/drive'\u001b[0m\u001b[0;34m)\u001b[0m\u001b[0;34m\u001b[0m\u001b[0;34m\u001b[0m\u001b[0m\n",
      "\u001b[0;31mModuleNotFoundError\u001b[0m: No module named 'google.colab'"
     ]
    }
   ],
   "source": [
    "from google.colab import drive\n",
    "drive.mount('/content/drive')"
   ]
  },
  {
   "cell_type": "markdown",
   "metadata": {},
   "source": [
    "## GPU 환경 확인"
   ]
  },
  {
   "cell_type": "code",
   "execution_count": 35,
   "metadata": {
    "scrolled": false
   },
   "outputs": [
    {
     "name": "stdout",
     "output_type": "stream",
     "text": [
      "Looking in indexes: https://pypi.org/simple, https://pypi.ngc.nvidia.com\n",
      "Requirement already satisfied: torchvision==0.13.0 in /opt/conda/lib/python3.8/site-packages (0.13.0)\n",
      "Requirement already satisfied: torch==1.12.0 in /opt/conda/lib/python3.8/site-packages (from torchvision==0.13.0) (1.12.0)\n",
      "Requirement already satisfied: pillow!=8.3.*,>=5.3.0 in /opt/conda/lib/python3.8/site-packages (from torchvision==0.13.0) (8.2.0)\n",
      "Requirement already satisfied: typing-extensions in /opt/conda/lib/python3.8/site-packages (from torchvision==0.13.0) (4.5.0)\n",
      "Requirement already satisfied: requests in /opt/conda/lib/python3.8/site-packages (from torchvision==0.13.0) (2.28.2)\n",
      "Requirement already satisfied: numpy in /opt/conda/lib/python3.8/site-packages (from torchvision==0.13.0) (1.20.3)\n",
      "Requirement already satisfied: certifi>=2017.4.17 in /opt/conda/lib/python3.8/site-packages (from requests->torchvision==0.13.0) (2022.12.7)\n",
      "Requirement already satisfied: urllib3<1.27,>=1.21.1 in /opt/conda/lib/python3.8/site-packages (from requests->torchvision==0.13.0) (1.26.15)\n",
      "Requirement already satisfied: charset-normalizer<4,>=2 in /opt/conda/lib/python3.8/site-packages (from requests->torchvision==0.13.0) (2.1.1)\n",
      "Requirement already satisfied: idna<4,>=2.5 in /opt/conda/lib/python3.8/site-packages (from requests->torchvision==0.13.0) (3.4)\n",
      "\u001b[33mWARNING: Running pip as the 'root' user can result in broken permissions and conflicting behaviour with the system package manager. It is recommended to use a virtual environment instead: https://pip.pypa.io/warnings/venv\u001b[0m\u001b[33m\n",
      "\u001b[0m"
     ]
    }
   ],
   "source": [
    "!pip install torchvision==0.14.0"
   ]
  },
  {
   "cell_type": "code",
   "execution_count": 37,
   "metadata": {},
   "outputs": [
    {
     "data": {
      "text/plain": [
       "True"
      ]
     },
     "execution_count": 37,
     "metadata": {},
     "output_type": "execute_result"
    }
   ],
   "source": [
    "import torch\n",
    "\n",
    "torch.cuda.is_available()"
   ]
  },
  {
   "cell_type": "code",
   "execution_count": 38,
   "metadata": {},
   "outputs": [
    {
     "data": {
      "text/plain": [
       "tensor([0.9267, 0.9952, 0.4812, 0.1751, 0.4655, 0.7792, 0.1041, 0.7352, 0.2906,\n",
       "        0.9164], device='cuda:0')"
      ]
     },
     "execution_count": 38,
     "metadata": {},
     "output_type": "execute_result"
    }
   ],
   "source": [
    "import torch\n",
    "\n",
    "torch.rand(10).cuda()"
   ]
  },
  {
   "cell_type": "markdown",
   "metadata": {},
   "source": [
    "---"
   ]
  },
  {
   "cell_type": "markdown",
   "metadata": {
    "id": "aDze87_wPmGq"
   },
   "source": [
    "## Setting up"
   ]
  },
  {
   "cell_type": "code",
   "execution_count": 1,
   "metadata": {
    "colab": {
     "base_uri": "https://localhost:8080/"
    },
    "id": "mosc9Ff4MUIq",
    "outputId": "969fec37-6553-4846-a980-c689fab3afa8"
   },
   "outputs": [
    {
     "name": "stdout",
     "output_type": "stream",
     "text": [
      "nvidia-dlprof-pytorch-nvtx     1.6.0\n",
      "pytorch-quantization           2.1.0\n",
      "pytorchsummary                 1.3.0\n",
      "torch                          1.12.0\n",
      "torchsummary                   1.5.1\n",
      "torchtext                      0.11.0a0\n",
      "torchvision                    0.13.0\n"
     ]
    }
   ],
   "source": [
    "# Check if fastai and pytorch are installed\n",
    "!pip list | grep -e fastai -e torch -e torchvision\n",
    "\n",
    "# If not, uncomment this line and run to install them\n",
    "#!pip install torch torchvision fastai"
   ]
  },
  {
   "cell_type": "markdown",
   "metadata": {
    "id": "DsySnqviPtyI"
   },
   "source": [
    "## Data Preparing"
   ]
  },
  {
   "cell_type": "code",
   "execution_count": 213,
   "metadata": {
    "id": "DT4T_ejAIxfW"
   },
   "outputs": [],
   "source": [
    "from PIL import Image\n",
    "import numpy as np\n",
    "import matplotlib\n",
    "import matplotlib.pyplot as plt\n",
    "%matplotlib inline\n",
    "import torch\n",
    "import torchvision\n",
    "from torchvision import transforms\n",
    "from torch.utils.data import Dataset, DataLoader\n",
    "from torchvision import datasets\n",
    "from torch.utils.data import random_split"
   ]
  },
  {
   "cell_type": "code",
   "execution_count": 214,
   "metadata": {
    "id": "5eRTzPfCIxcq"
   },
   "outputs": [],
   "source": [
    "trans = transforms.Compose([transforms.Resize((32, 32)),\n",
    "                            transforms.ToTensor(),\n",
    "                            transforms.Normalize((0.5,0.5,0.5),(0.5,0.5,0.5))\n",
    "                            ])\n",
    "trainset = torchvision.datasets.ImageFolder(root = \"./Multi_Classification_Sample_Images\",\n",
    "                                            transform = trans)"
   ]
  },
  {
   "cell_type": "code",
   "execution_count": 215,
   "metadata": {
    "colab": {
     "base_uri": "https://localhost:8080/"
    },
    "id": "lGAR0cLiIxZn",
    "outputId": "54f8f478-e500-4f0d-b965-ca7391f2e7d2"
   },
   "outputs": [
    {
     "data": {
      "text/plain": [
       "(tensor([[[-0.1373, -0.3098,  0.1686,  ...,  0.0980,  0.0980,  0.0980],\n",
       "          [-0.0980, -0.2235,  0.1922,  ...,  0.1137,  0.1137,  0.0980],\n",
       "          [-0.2314, -0.2157,  0.2078,  ...,  0.1373,  0.1216,  0.0431],\n",
       "          ...,\n",
       "          [ 0.6157,  0.6471,  0.6157,  ...,  0.8118,  0.7725,  0.7333],\n",
       "          [ 0.6157,  0.6627,  0.6392,  ...,  0.4824,  0.4588,  0.4588],\n",
       "          [ 0.6000,  0.6471,  0.6471,  ...,  0.2941,  0.2941,  0.3098]],\n",
       " \n",
       "         [[-0.1216, -0.3020,  0.3176,  ...,  0.3490,  0.3412,  0.2941],\n",
       "          [-0.0980, -0.2000,  0.3255,  ...,  0.3569,  0.3255,  0.1216],\n",
       "          [-0.2941, -0.2078,  0.3255,  ...,  0.3490,  0.1686, -0.1059],\n",
       "          ...,\n",
       "          [ 0.1843,  0.2157,  0.1843,  ...,  0.4431,  0.3882,  0.3255],\n",
       "          [ 0.1922,  0.2314,  0.2000,  ...,  0.2549,  0.2157,  0.1843],\n",
       "          [ 0.1765,  0.2235,  0.2157,  ...,  0.0902,  0.0980,  0.0980]],\n",
       " \n",
       "         [[-0.1216, -0.3412,  0.4745,  ...,  0.6157,  0.6078,  0.5373],\n",
       "          [-0.1451, -0.2157,  0.4588,  ...,  0.6157,  0.5608,  0.2157],\n",
       "          [-0.4196, -0.2784,  0.4431,  ...,  0.5686,  0.2784, -0.1529],\n",
       "          ...,\n",
       "          [-0.2471, -0.2157, -0.2392,  ..., -0.0275, -0.0745, -0.1373],\n",
       "          [-0.2314, -0.2078, -0.2235,  ..., -0.0824, -0.1137, -0.1686],\n",
       "          [-0.2314, -0.2157, -0.2235,  ..., -0.1608, -0.1608, -0.1922]]]),\n",
       " 0)"
      ]
     },
     "execution_count": 215,
     "metadata": {},
     "output_type": "execute_result"
    }
   ],
   "source": [
    "trainset.__getitem__(18)"
   ]
  },
  {
   "cell_type": "code",
   "execution_count": 216,
   "metadata": {
    "colab": {
     "base_uri": "https://localhost:8080/"
    },
    "id": "t68JSZ3PIxWz",
    "outputId": "bf22c7b0-63ad-4671-d48f-3f935f47a1d2"
   },
   "outputs": [
    {
     "data": {
      "text/plain": [
       "1200"
      ]
     },
     "execution_count": 216,
     "metadata": {},
     "output_type": "execute_result"
    }
   ],
   "source": [
    "len(trainset)"
   ]
  },
  {
   "cell_type": "code",
   "execution_count": 217,
   "metadata": {
    "colab": {
     "base_uri": "https://localhost:8080/"
    },
    "id": "a203ME_AIxUK",
    "outputId": "4376680b-b69e-4fb9-8d06-4ce44688a563"
   },
   "outputs": [
    {
     "data": {
      "text/plain": [
       "['adress',\n",
       " 'backswing',\n",
       " 'backswingtop',\n",
       " 'downswing',\n",
       " 'finish',\n",
       " 'follow',\n",
       " 'impact',\n",
       " 'takeback']"
      ]
     },
     "execution_count": 217,
     "metadata": {},
     "output_type": "execute_result"
    }
   ],
   "source": [
    "classes = trainset.classes\n",
    "classes"
   ]
  },
  {
   "cell_type": "markdown",
   "metadata": {
    "id": "Lulco5ZghH8v"
   },
   "source": [
    "## Data Upload Via DataLoader"
   ]
  },
  {
   "cell_type": "code",
   "execution_count": 218,
   "metadata": {
    "colab": {
     "base_uri": "https://localhost:8080/"
    },
    "id": "QAURBjXWK3TY",
    "outputId": "4edae7b3-4ecc-43c9-f1fa-59c8234dad82"
   },
   "outputs": [
    {
     "name": "stdout",
     "output_type": "stream",
     "text": [
      "960 240\n"
     ]
    }
   ],
   "source": [
    "trainset, testset = random_split(trainset, [960, 240])\n",
    "print(len(trainset), len(testset))"
   ]
  },
  {
   "cell_type": "code",
   "execution_count": 219,
   "metadata": {
    "colab": {
     "base_uri": "https://localhost:8080/"
    },
    "id": "ffs7QcKMK_7p",
    "outputId": "b371565e-c721-44c0-e6d0-70f038f04275"
   },
   "outputs": [
    {
     "name": "stdout",
     "output_type": "stream",
     "text": [
      "120 120\n"
     ]
    }
   ],
   "source": [
    "testset, valset = random_split(testset, [120, 120])\n",
    "print(len(testset), len(valset))"
   ]
  },
  {
   "cell_type": "code",
   "execution_count": 220,
   "metadata": {
    "id": "aIq_iSzNIxRU"
   },
   "outputs": [],
   "source": [
    "batch_size = 4\n",
    "trainloader = DataLoader(trainset, batch_size=batch_size, shuffle=True, num_workers=2) # 훈련용\n",
    "validloader = DataLoader(valset, batch_size=batch_size, shuffle=False, num_workers=2) # 검증용\n",
    "testloader = DataLoader(testset, batch_size=batch_size, shuffle=False, num_workers=2) # 테스트용"
   ]
  },
  {
   "cell_type": "code",
   "execution_count": 221,
   "metadata": {
    "colab": {
     "base_uri": "https://localhost:8080/"
    },
    "id": "jj5OMab6IxOi",
    "outputId": "7cc4cbbd-43a0-4d4a-8811-94196cd099cc"
   },
   "outputs": [
    {
     "name": "stdout",
     "output_type": "stream",
     "text": [
      "tensor([3, 5, 2, 5])\n"
     ]
    }
   ],
   "source": [
    "dataiter = iter(trainloader)\n",
    "images, labels = next(dataiter)\n",
    "print(labels)"
   ]
  },
  {
   "cell_type": "markdown",
   "metadata": {
    "id": "USM2RxKwnR6-"
   },
   "source": [
    "## Image Visualization"
   ]
  },
  {
   "cell_type": "code",
   "execution_count": 222,
   "metadata": {
    "id": "GhaWEBFfIxLq"
   },
   "outputs": [],
   "source": [
    "def imshow(img):\n",
    "    img = img / 2 + 0.5 # unnormalize\n",
    "    np_img = img.numpy()\n",
    "    # plt.imshow(np_img)\n",
    "    plt.imshow(np.transpose(np_img, (1,2,0)))\n",
    "\n",
    "    print(np_img.shape)\n",
    "    print((np.transpose(np_img, (1,2,0))).shape)"
   ]
  },
  {
   "cell_type": "code",
   "execution_count": 223,
   "metadata": {
    "colab": {
     "base_uri": "https://localhost:8080/",
     "height": 246
    },
    "id": "R58QU4m_IxJC",
    "outputId": "fc7e88ee-353b-4ba7-8ab8-edef72425f28"
   },
   "outputs": [
    {
     "name": "stdout",
     "output_type": "stream",
     "text": [
      "torch.Size([4, 3, 32, 32])\n",
      "(3, 36, 138)\n",
      "(36, 138, 3)\n",
      "torch.Size([4, 3, 32, 32])\n",
      "torch.Size([3, 36, 138])\n",
      "downswing follow backswingtop follow \n"
     ]
    },
    {
     "data": {
      "image/png": "[encoded data removed]",
      "text/plain": [
       "<Figure size 640x480 with 1 Axes>"
      ]
     },
     "metadata": {},
     "output_type": "display_data"
    }
   ],
   "source": [
    "print(images.shape)\n",
    "imshow(torchvision.utils.make_grid(images, nrow=4))\n",
    "print(images.shape)\n",
    "print((torchvision.utils.make_grid(images)).shape)\n",
    "print(\"\".join(\"%5s \"%classes[labels[j]] for j in range(4)))"
   ]
  },
  {
   "cell_type": "markdown",
   "metadata": {
    "id": "GLjk-2v8PomM"
   },
   "source": [
    "## Dataset Verification Via Visualization"
   ]
  },
  {
   "cell_type": "code",
   "execution_count": 224,
   "metadata": {
    "colab": {
     "base_uri": "https://localhost:8080/"
    },
    "id": "bPNb2myk6L1e",
    "outputId": "5caf9bbf-6fbc-44ff-85fe-129968ceb8ed"
   },
   "outputs": [
    {
     "name": "stdout",
     "output_type": "stream",
     "text": [
      "<class 'torch.Tensor'> <class 'int'>\n"
     ]
    }
   ],
   "source": [
    "print(type(trainset[0][0]), type(trainset[0][1]))"
   ]
  },
  {
   "cell_type": "code",
   "execution_count": 225,
   "metadata": {
    "colab": {
     "base_uri": "https://localhost:8080/"
    },
    "id": "sACzBMB_6Lyx",
    "outputId": "5ce85f7c-fc95-424e-9b0e-1650dc3a20f7"
   },
   "outputs": [
    {
     "data": {
      "text/plain": [
       "torch.Size([3, 32, 32])"
      ]
     },
     "execution_count": 225,
     "metadata": {},
     "output_type": "execute_result"
    }
   ],
   "source": [
    "trainset[0][0].size()"
   ]
  },
  {
   "cell_type": "code",
   "execution_count": 226,
   "metadata": {
    "colab": {
     "base_uri": "https://localhost:8080/"
    },
    "id": "Op0OdbQB6Lv6",
    "outputId": "adbc46c2-1c20-49eb-fb75-1c28a69704d5"
   },
   "outputs": [
    {
     "data": {
      "text/plain": [
       "torch.Size([3, 32, 32])"
      ]
     },
     "execution_count": 226,
     "metadata": {},
     "output_type": "execute_result"
    }
   ],
   "source": [
    "# 1번 샘플\n",
    "sample_img = trainset[1][0]\n",
    "sample_img.size()"
   ]
  },
  {
   "cell_type": "code",
   "execution_count": 227,
   "metadata": {
    "colab": {
     "base_uri": "https://localhost:8080/",
     "height": 303
    },
    "id": "5NoViqiY6LtS",
    "outputId": "4650e703-16ea-478a-8970-e14ec9306d88"
   },
   "outputs": [
    {
     "name": "stderr",
     "output_type": "stream",
     "text": [
      "Clipping input data to the valid range for imshow with RGB data ([0..1] for floats or [0..255] for integers).\n"
     ]
    },
    {
     "data": {
      "text/plain": [
       "<matplotlib.image.AxesImage at 0x7ffb604aa820>"
      ]
     },
     "execution_count": 227,
     "metadata": {},
     "output_type": "execute_result"
    },
    {
     "data": {
      "image/png": "[encoded data removed]",
      "text/plain": [
       "<Figure size 640x480 with 1 Axes>"
      ]
     },
     "metadata": {},
     "output_type": "display_data"
    }
   ],
   "source": [
    "plt.imshow(sample_img.permute(1, 2, 0))"
   ]
  },
  {
   "cell_type": "code",
   "execution_count": 228,
   "metadata": {
    "colab": {
     "base_uri": "https://localhost:8080/"
    },
    "id": "C9vDJmGp6Lqa",
    "outputId": "cdb1971b-1e7c-4df4-b36e-c2c5450ce3d9"
   },
   "outputs": [
    {
     "data": {
      "text/plain": [
       "7"
      ]
     },
     "execution_count": 228,
     "metadata": {},
     "output_type": "execute_result"
    }
   ],
   "source": [
    "trainset[1][1]"
   ]
  },
  {
   "cell_type": "markdown",
   "metadata": {
    "id": "31VgtDhkP5E1"
   },
   "source": [
    "- numpy로 변환한 뒤 matplotlib으로 표시할 경우"
   ]
  },
  {
   "cell_type": "code",
   "execution_count": 229,
   "metadata": {
    "colab": {
     "base_uri": "https://localhost:8080/"
    },
    "id": "o9iN36dL6LoM",
    "outputId": "60c65395-52f1-40c1-8397-d3d540f0d165"
   },
   "outputs": [
    {
     "data": {
      "text/plain": [
       "torch.Size([3, 32, 32])"
      ]
     },
     "execution_count": 229,
     "metadata": {},
     "output_type": "execute_result"
    }
   ],
   "source": [
    "sample_img.size()"
   ]
  },
  {
   "cell_type": "code",
   "execution_count": 230,
   "metadata": {
    "colab": {
     "base_uri": "https://localhost:8080/"
    },
    "id": "f3k6OtHY6LlO",
    "outputId": "03a29e8c-3d6f-4bcc-ca59-f67412563541"
   },
   "outputs": [
    {
     "data": {
      "text/plain": [
       "(3, 32, 32)"
      ]
     },
     "execution_count": 230,
     "metadata": {},
     "output_type": "execute_result"
    }
   ],
   "source": [
    "numpy_sample = sample_img.numpy()\n",
    "numpy_sample.shape"
   ]
  },
  {
   "cell_type": "code",
   "execution_count": 231,
   "metadata": {
    "colab": {
     "base_uri": "https://localhost:8080/"
    },
    "id": "tE0Xqgq86Liz",
    "outputId": "bf7c9bbd-c45c-4f40-c8cc-d708a298781f"
   },
   "outputs": [
    {
     "data": {
      "text/plain": [
       "numpy.ndarray"
      ]
     },
     "execution_count": 231,
     "metadata": {},
     "output_type": "execute_result"
    }
   ],
   "source": [
    "type(numpy_sample)"
   ]
  },
  {
   "cell_type": "code",
   "execution_count": 232,
   "metadata": {
    "colab": {
     "base_uri": "https://localhost:8080/",
     "height": 303
    },
    "id": "hDhc_6OP6Lfw",
    "outputId": "b6d75fc7-35f9-4d03-cd5c-82b85364df77"
   },
   "outputs": [
    {
     "name": "stderr",
     "output_type": "stream",
     "text": [
      "Clipping input data to the valid range for imshow with RGB data ([0..1] for floats or [0..255] for integers).\n"
     ]
    },
    {
     "data": {
      "text/plain": [
       "<matplotlib.image.AxesImage at 0x7ff9ee573a60>"
      ]
     },
     "execution_count": 232,
     "metadata": {},
     "output_type": "execute_result"
    },
    {
     "data": {
      "image/png": "[encoded data removed]",
      "text/plain": [
       "<Figure size 640x480 with 1 Axes>"
      ]
     },
     "metadata": {},
     "output_type": "display_data"
    }
   ],
   "source": [
    "plt.imshow(numpy_sample.transpose(1, 2, 0)) # 차원 순서 변경할 때 tensor는 permute, ndarray는 transpose"
   ]
  },
  {
   "cell_type": "code",
   "execution_count": 233,
   "metadata": {
    "colab": {
     "base_uri": "https://localhost:8080/",
     "height": 341
    },
    "id": "SC-aLsL_6LdG",
    "outputId": "e09f86eb-5979-4225-cd30-1ed2589290e9"
   },
   "outputs": [
    {
     "name": "stderr",
     "output_type": "stream",
     "text": [
      "Clipping input data to the valid range for imshow with RGB data ([0..1] for floats or [0..255] for integers).\n",
      "Clipping input data to the valid range for imshow with RGB data ([0..1] for floats or [0..255] for integers).\n",
      "Clipping input data to the valid range for imshow with RGB data ([0..1] for floats or [0..255] for integers).\n",
      "Clipping input data to the valid range for imshow with RGB data ([0..1] for floats or [0..255] for integers).\n",
      "Clipping input data to the valid range for imshow with RGB data ([0..1] for floats or [0..255] for integers).\n",
      "Clipping input data to the valid range for imshow with RGB data ([0..1] for floats or [0..255] for integers).\n",
      "Clipping input data to the valid range for imshow with RGB data ([0..1] for floats or [0..255] for integers).\n",
      "Clipping input data to the valid range for imshow with RGB data ([0..1] for floats or [0..255] for integers).\n"
     ]
    },
    {
     "data": {
      "image/png": "[encoded data removed]",
      "text/plain": [
       "<Figure size 2200x600 with 8 Axes>"
      ]
     },
     "metadata": {},
     "output_type": "display_data"
    }
   ],
   "source": [
    "figure, axes = plt.subplots(nrows=1, ncols=8, figsize=(22, 6))\n",
    "for i in range(8):\n",
    "  axes[i].imshow(trainset[i][0].permute(1, 2, 0), cmap='gray')\n",
    "  axes[i].set_title(trainset[i][1])   "
   ]
  },
  {
   "cell_type": "markdown",
   "metadata": {
    "id": "BqFILxvcviir"
   },
   "source": [
    "## Data Separation"
   ]
  },
  {
   "cell_type": "markdown",
   "metadata": {
    "id": "kBqduTva1GOH"
   },
   "source": [
    "**trainset**"
   ]
  },
  {
   "cell_type": "code",
   "execution_count": 234,
   "metadata": {
    "colab": {
     "base_uri": "https://localhost:8080/"
    },
    "id": "a4mhOxxW6Lab",
    "outputId": "5b3041b7-f6cd-4570-f5e9-dcadd5ce75ea"
   },
   "outputs": [
    {
     "data": {
      "text/plain": [
       "torch.Size([3, 32, 32])"
      ]
     },
     "execution_count": 234,
     "metadata": {},
     "output_type": "execute_result"
    }
   ],
   "source": [
    "sample_img = testset[100][0]\n",
    "sample_img.size()"
   ]
  },
  {
   "cell_type": "code",
   "execution_count": 235,
   "metadata": {
    "colab": {
     "base_uri": "https://localhost:8080/",
     "height": 303
    },
    "id": "uayvRJI-6LX2",
    "outputId": "5ee9aadf-c6fb-4d36-c054-c4ecf9c7d63d"
   },
   "outputs": [
    {
     "name": "stderr",
     "output_type": "stream",
     "text": [
      "Clipping input data to the valid range for imshow with RGB data ([0..1] for floats or [0..255] for integers).\n"
     ]
    },
    {
     "data": {
      "text/plain": [
       "<matplotlib.image.AxesImage at 0x7ffb602a4a60>"
      ]
     },
     "execution_count": 235,
     "metadata": {},
     "output_type": "execute_result"
    },
    {
     "data": {
      "image/png": "[encoded data removed]",
      "text/plain": [
       "<Figure size 640x480 with 1 Axes>"
      ]
     },
     "metadata": {},
     "output_type": "display_data"
    }
   ],
   "source": [
    "plt.imshow(sample_img.permute(1, 2, 0))"
   ]
  },
  {
   "cell_type": "code",
   "execution_count": 236,
   "metadata": {
    "colab": {
     "base_uri": "https://localhost:8080/"
    },
    "id": "y4_ut0Eh6LSv",
    "outputId": "a09f7904-895b-4df2-f557-227a4ebf91c9"
   },
   "outputs": [
    {
     "data": {
      "text/plain": [
       "(torch.Size([3, 32, 32]), 4)"
      ]
     },
     "execution_count": 236,
     "metadata": {},
     "output_type": "execute_result"
    }
   ],
   "source": [
    "testset[100][0].size(), testset[100][1]"
   ]
  },
  {
   "cell_type": "code",
   "execution_count": 237,
   "metadata": {
    "colab": {
     "base_uri": "https://localhost:8080/"
    },
    "id": "6iW0oDw-6LPr",
    "outputId": "da5644e4-2348-4e35-e48b-bac779574942"
   },
   "outputs": [
    {
     "data": {
      "text/plain": [
       "(torch.Size([3, 32, 32]), 1)"
      ]
     },
     "execution_count": 237,
     "metadata": {},
     "output_type": "execute_result"
    }
   ],
   "source": [
    "trainset[600][0].size(), trainset[600][1]"
   ]
  },
  {
   "cell_type": "markdown",
   "metadata": {
    "id": "13XAGhyk1MOx"
   },
   "source": [
    "**testset, valset**"
   ]
  },
  {
   "cell_type": "code",
   "execution_count": 238,
   "metadata": {
    "colab": {
     "base_uri": "https://localhost:8080/"
    },
    "id": "k27Cf9WH1EqE",
    "outputId": "6f4b0f81-341a-494e-d80d-12f62d65cda7"
   },
   "outputs": [
    {
     "data": {
      "text/plain": [
       "torch.Size([3, 32, 32])"
      ]
     },
     "execution_count": 238,
     "metadata": {},
     "output_type": "execute_result"
    }
   ],
   "source": [
    "sample_img1 = valset[100][0]\n",
    "sample_img1.size()"
   ]
  },
  {
   "cell_type": "code",
   "execution_count": 239,
   "metadata": {
    "colab": {
     "base_uri": "https://localhost:8080/",
     "height": 306
    },
    "id": "J55DWRAP1Enn",
    "outputId": "e9ba52bd-52e3-4480-c73b-88d672708fd5"
   },
   "outputs": [
    {
     "name": "stderr",
     "output_type": "stream",
     "text": [
      "Clipping input data to the valid range for imshow with RGB data ([0..1] for floats or [0..255] for integers).\n"
     ]
    },
    {
     "data": {
      "text/plain": [
       "<matplotlib.image.AxesImage at 0x7ffb60273ee0>"
      ]
     },
     "execution_count": 239,
     "metadata": {},
     "output_type": "execute_result"
    },
    {
     "data": {
      "image/png": "[encoded data removed]",
      "text/plain": [
       "<Figure size 640x480 with 1 Axes>"
      ]
     },
     "metadata": {},
     "output_type": "display_data"
    }
   ],
   "source": [
    "plt.imshow(sample_img1.permute(1, 2, 0))"
   ]
  },
  {
   "cell_type": "code",
   "execution_count": 240,
   "metadata": {
    "colab": {
     "base_uri": "https://localhost:8080/"
    },
    "id": "kH0CTLXD1Ekz",
    "outputId": "24b806cf-f7a7-4b37-8ef5-db72cde7c36d"
   },
   "outputs": [
    {
     "data": {
      "text/plain": [
       "(torch.Size([3, 32, 32]), 3)"
      ]
     },
     "execution_count": 240,
     "metadata": {},
     "output_type": "execute_result"
    }
   ],
   "source": [
    "valset[100][0].size(), valset[100][1]"
   ]
  },
  {
   "cell_type": "code",
   "execution_count": 241,
   "metadata": {
    "colab": {
     "base_uri": "https://localhost:8080/"
    },
    "id": "hD97QUy_1Eh6",
    "outputId": "7c288ea5-52d3-42f3-e043-1307e4e4d09b"
   },
   "outputs": [
    {
     "data": {
      "text/plain": [
       "(torch.Size([3, 32, 32]), 0)"
      ]
     },
     "execution_count": 241,
     "metadata": {},
     "output_type": "execute_result"
    }
   ],
   "source": [
    "valset[20][0].size(), valset[20][1]"
   ]
  },
  {
   "cell_type": "markdown",
   "metadata": {
    "id": "daHgfU0d2ouh"
   },
   "source": [
    "#### More Variable Visualization"
   ]
  },
  {
   "cell_type": "code",
   "execution_count": 242,
   "metadata": {
    "colab": {
     "base_uri": "https://localhost:8080/",
     "height": 341
    },
    "id": "J0GRBwuZ1EfV",
    "outputId": "454ff580-03a8-4d5a-f88c-158a4eb73ec4",
    "scrolled": true
   },
   "outputs": [
    {
     "name": "stderr",
     "output_type": "stream",
     "text": [
      "Clipping input data to the valid range for imshow with RGB data ([0..1] for floats or [0..255] for integers).\n",
      "Clipping input data to the valid range for imshow with RGB data ([0..1] for floats or [0..255] for integers).\n",
      "Clipping input data to the valid range for imshow with RGB data ([0..1] for floats or [0..255] for integers).\n",
      "Clipping input data to the valid range for imshow with RGB data ([0..1] for floats or [0..255] for integers).\n",
      "Clipping input data to the valid range for imshow with RGB data ([0..1] for floats or [0..255] for integers).\n",
      "Clipping input data to the valid range for imshow with RGB data ([0..1] for floats or [0..255] for integers).\n",
      "Clipping input data to the valid range for imshow with RGB data ([0..1] for floats or [0..255] for integers).\n",
      "Clipping input data to the valid range for imshow with RGB data ([0..1] for floats or [0..255] for integers).\n"
     ]
    },
    {
     "data": {
      "image/png": "[encoded data removed]",
      "text/plain": [
       "<Figure size 2200x600 with 8 Axes>"
      ]
     },
     "metadata": {},
     "output_type": "display_data"
    }
   ],
   "source": [
    "figure, axes = plt.subplots(nrows=1, ncols=8, figsize=(22, 6))\n",
    "for i in range(8):\n",
    "  axes[i].imshow(trainset[i][0].permute(1, 2, 0), cmap='gray')\n",
    "  axes[i].set_title(trainset[i][1])"
   ]
  },
  {
   "cell_type": "code",
   "execution_count": 243,
   "metadata": {
    "colab": {
     "base_uri": "https://localhost:8080/",
     "height": 1000
    },
    "id": "d3i4sC-q1EcV",
    "outputId": "ff43d4f3-77b6-4e70-fe8b-de48e8f86dbf",
    "scrolled": true
   },
   "outputs": [
    {
     "name": "stderr",
     "output_type": "stream",
     "text": [
      "Clipping input data to the valid range for imshow with RGB data ([0..1] for floats or [0..255] for integers).\n",
      "Clipping input data to the valid range for imshow with RGB data ([0..1] for floats or [0..255] for integers).\n",
      "Clipping input data to the valid range for imshow with RGB data ([0..1] for floats or [0..255] for integers).\n",
      "Clipping input data to the valid range for imshow with RGB data ([0..1] for floats or [0..255] for integers).\n",
      "Clipping input data to the valid range for imshow with RGB data ([0..1] for floats or [0..255] for integers).\n",
      "Clipping input data to the valid range for imshow with RGB data ([0..1] for floats or [0..255] for integers).\n",
      "Clipping input data to the valid range for imshow with RGB data ([0..1] for floats or [0..255] for integers).\n",
      "Clipping input data to the valid range for imshow with RGB data ([0..1] for floats or [0..255] for integers).\n",
      "Clipping input data to the valid range for imshow with RGB data ([0..1] for floats or [0..255] for integers).\n",
      "Clipping input data to the valid range for imshow with RGB data ([0..1] for floats or [0..255] for integers).\n",
      "Clipping input data to the valid range for imshow with RGB data ([0..1] for floats or [0..255] for integers).\n",
      "Clipping input data to the valid range for imshow with RGB data ([0..1] for floats or [0..255] for integers).\n",
      "Clipping input data to the valid range for imshow with RGB data ([0..1] for floats or [0..255] for integers).\n",
      "Clipping input data to the valid range for imshow with RGB data ([0..1] for floats or [0..255] for integers).\n",
      "Clipping input data to the valid range for imshow with RGB data ([0..1] for floats or [0..255] for integers).\n",
      "Clipping input data to the valid range for imshow with RGB data ([0..1] for floats or [0..255] for integers).\n",
      "Clipping input data to the valid range for imshow with RGB data ([0..1] for floats or [0..255] for integers).\n",
      "Clipping input data to the valid range for imshow with RGB data ([0..1] for floats or [0..255] for integers).\n",
      "Clipping input data to the valid range for imshow with RGB data ([0..1] for floats or [0..255] for integers).\n",
      "Clipping input data to the valid range for imshow with RGB data ([0..1] for floats or [0..255] for integers).\n",
      "Clipping input data to the valid range for imshow with RGB data ([0..1] for floats or [0..255] for integers).\n",
      "Clipping input data to the valid range for imshow with RGB data ([0..1] for floats or [0..255] for integers).\n",
      "Clipping input data to the valid range for imshow with RGB data ([0..1] for floats or [0..255] for integers).\n",
      "Clipping input data to the valid range for imshow with RGB data ([0..1] for floats or [0..255] for integers).\n",
      "Clipping input data to the valid range for imshow with RGB data ([0..1] for floats or [0..255] for integers).\n",
      "Clipping input data to the valid range for imshow with RGB data ([0..1] for floats or [0..255] for integers).\n",
      "Clipping input data to the valid range for imshow with RGB data ([0..1] for floats or [0..255] for integers).\n",
      "Clipping input data to the valid range for imshow with RGB data ([0..1] for floats or [0..255] for integers).\n",
      "Clipping input data to the valid range for imshow with RGB data ([0..1] for floats or [0..255] for integers).\n",
      "Clipping input data to the valid range for imshow with RGB data ([0..1] for floats or [0..255] for integers).\n",
      "Clipping input data to the valid range for imshow with RGB data ([0..1] for floats or [0..255] for integers).\n",
      "Clipping input data to the valid range for imshow with RGB data ([0..1] for floats or [0..255] for integers).\n"
     ]
    },
    {
     "data": {
      "image/png": "[encoded data removed]",
      "text/plain": [
       "<Figure size 1600x800 with 32 Axes>"
      ]
     },
     "metadata": {},
     "output_type": "display_data"
    }
   ],
   "source": [
    "labels_map = {0 : 'adress', 1 : 'backswing', 2: 'backswingtop', 3: 'downswing', 4: 'finish', 5: 'follow', 6: 'impact', 7: 'takeback'}\n",
    "\n",
    "figure, axes = plt.subplots(nrows=4, ncols=8, figsize=(16, 8))\n",
    "axes = axes.flatten()\n",
    "\n",
    "for i in range(32):\n",
    "    rand_i = np.random.randint(0, len(trainset))\n",
    "    image = trainset[rand_i][0].permute(1, 2, 0)\n",
    "    axes[i].axis('off')\n",
    "    axes[i].imshow(image)\n",
    "    axes[i].set_title(labels_map[trainset[rand_i][1]])    "
   ]
  },
  {
   "cell_type": "markdown",
   "metadata": {
    "id": "IuXHCIJp8Afa"
   },
   "source": [
    "## Model Organization"
   ]
  },
  {
   "cell_type": "markdown",
   "metadata": {
    "id": "JkPfs2naxnBB"
   },
   "source": [
    "- ResNet Structure"
   ]
  },
  {
   "cell_type": "code",
   "execution_count": 244,
   "metadata": {
    "id": "0ZsqCrYEx8-l"
   },
   "outputs": [],
   "source": [
    "import torch.nn as nn\n",
    "import torch.nn.functional as F\n",
    "import torchvision.transforms as transforms\n",
    "import torch.optim as optim\n",
    "import copy\n",
    "import sys, time\n",
    "from torch.autograd import Variable"
   ]
  },
  {
   "cell_type": "code",
   "execution_count": 245,
   "metadata": {
    "id": "KfCmT98c1EZu"
   },
   "outputs": [],
   "source": [
    "class BasicBlock(nn.Module):\n",
    "    expansion = 1\n",
    "\n",
    "    def __init__(self, in_planes, planes, stride=1):\n",
    "        super(BasicBlock, self).__init__()\n",
    "        self.conv1 = nn.Conv2d(in_planes, planes, kernel_size=3, stride=stride, padding=1, bias=False)\n",
    "        self.bn1 = nn.BatchNorm2d(planes)\n",
    "        self.conv2 = nn.Conv2d(planes, planes, kernel_size=3, stride=1, padding=1, bias=False)\n",
    "        self.bn2 = nn.BatchNorm2d(planes)\n",
    "\n",
    "        self.shortcut = nn.Sequential()\n",
    "        if stride != 1 or in_planes != self.expansion*planes:\n",
    "            self.shortcut = nn.Sequential(\n",
    "                nn.Conv2d(in_planes, self.expansion*planes, kernel_size=1, stride=stride, bias=False),\n",
    "                nn.BatchNorm2d(self.expansion*planes)\n",
    "            )\n",
    "\n",
    "    def forward(self, x):\n",
    "        out = F.relu(self.bn1(self.conv1(x)))\n",
    "        out = self.bn2(self.conv2(out))\n",
    "        out += self.shortcut(x)\n",
    "        out = F.relu(out)\n",
    "        return out\n",
    "\n",
    "\n",
    "class Bottleneck(nn.Module):\n",
    "    expansion = 4\n",
    "\n",
    "    def __init__(self, in_planes, planes, stride=1):\n",
    "        super(Bottleneck, self).__init__()\n",
    "        self.conv1 = nn.Conv2d(in_planes, planes, kernel_size=1, bias=False)\n",
    "        self.bn1 = nn.BatchNorm2d(planes)\n",
    "        self.conv2 = nn.Conv2d(planes, planes, kernel_size=3, stride=stride, padding=1, bias=False)\n",
    "        self.bn2 = nn.BatchNorm2d(planes)\n",
    "        self.conv3 = nn.Conv2d(planes, self.expansion*planes, kernel_size=1, bias=False)\n",
    "        self.bn3 = nn.BatchNorm2d(self.expansion*planes)\n",
    "\n",
    "        self.shortcut = nn.Sequential()\n",
    "        if stride != 1 or in_planes != self.expansion*planes:\n",
    "            self.shortcut = nn.Sequential(\n",
    "                nn.Conv2d(in_planes, self.expansion*planes, kernel_size=1, stride=stride, bias=False),\n",
    "                nn.BatchNorm2d(self.expansion*planes)\n",
    "            )\n",
    "\n",
    "    def forward(self, x):\n",
    "        out = F.relu(self.bn1(self.conv1(x)))\n",
    "        out = F.relu(self.bn2(self.conv2(out)))\n",
    "        out = self.bn3(self.conv3(out))\n",
    "        out += self.shortcut(x)\n",
    "        out = F.relu(out)\n",
    "        return out\n",
    "\n",
    "\n",
    "class ResNet(nn.Module):\n",
    "    def __init__(self, block, num_blocks, num_classes=8):\n",
    "        super(ResNet, self).__init__()\n",
    "        self.in_planes = 64\n",
    "\n",
    "        self.conv1 = nn.Conv2d(3, 64, kernel_size=3, stride=1, padding=1, bias=False)\n",
    "        self.bn1 = nn.BatchNorm2d(64)\n",
    "        self.layer1 = self._make_layer(block, 64, num_blocks[0], stride=1)\n",
    "        self.layer2 = self._make_layer(block, 128, num_blocks[1], stride=2)\n",
    "        self.layer3 = self._make_layer(block, 256, num_blocks[2], stride=2)\n",
    "        self.layer4 = self._make_layer(block, 512, num_blocks[3], stride=2)\n",
    "        self.linear = nn.Linear(512*block.expansion, num_classes)\n",
    "\n",
    "    def _make_layer(self, block, planes, num_blocks, stride):\n",
    "        strides = [stride] + [1]*(num_blocks-1)\n",
    "        layers = []\n",
    "        for stride in strides:\n",
    "            layers.append(block(self.in_planes, planes, stride))\n",
    "            self.in_planes = planes * block.expansion\n",
    "        return nn.Sequential(*layers)\n",
    "\n",
    "    def forward(self, x):\n",
    "        out = F.relu(self.bn1(self.conv1(x)))\n",
    "        out = self.layer1(out)\n",
    "        out = self.layer2(out)\n",
    "        out = self.layer3(out)\n",
    "        out = self.layer4(out)\n",
    "        out = F.avg_pool2d(out, 4)\n",
    "        out = out.view(out.size(0), -1)\n",
    "        out = self.linear(out)\n",
    "        return out\n",
    "\n",
    "\n",
    "def ResNet18():\n",
    "    return ResNet(BasicBlock, [2,2,2,2])\n",
    "\n",
    "def ResNet34():\n",
    "    return ResNet(BasicBlock, [3,4,6,3])\n",
    "\n",
    "def ResNet50():\n",
    "    return ResNet(Bottleneck, [3,4,6,3])\n",
    "\n",
    "def ResNet101():\n",
    "    return ResNet(Bottleneck, [3,4,23,3])\n",
    "\n",
    "def ResNet152():\n",
    "    return ResNet(Bottleneck, [3,8,36,3])\n",
    "\n",
    "\n",
    "def test():\n",
    "    net = ResNet101()\n",
    "    y = net(torch.randn(1,3,32,32))\n",
    "    print(y.size())"
   ]
  },
  {
   "cell_type": "code",
   "execution_count": 248,
   "metadata": {
    "colab": {
     "base_uri": "https://localhost:8080/"
    },
    "id": "1iaZ0Jbs1EW0",
    "outputId": "a451ed23-6be9-420e-9886-8df6f5554ac7",
    "scrolled": true
   },
   "outputs": [
    {
     "name": "stdout",
     "output_type": "stream",
     "text": [
      "----------------------------------------------------------------\n",
      "        Layer (type)               Output Shape         Param #\n",
      "================================================================\n",
      "            Conv2d-1           [-1, 64, 32, 32]           1,728\n",
      "       BatchNorm2d-2           [-1, 64, 32, 32]             128\n",
      "            Conv2d-3           [-1, 64, 32, 32]           4,096\n",
      "       BatchNorm2d-4           [-1, 64, 32, 32]             128\n",
      "            Conv2d-5           [-1, 64, 32, 32]          36,864\n",
      "       BatchNorm2d-6           [-1, 64, 32, 32]             128\n",
      "            Conv2d-7          [-1, 256, 32, 32]          16,384\n",
      "       BatchNorm2d-8          [-1, 256, 32, 32]             512\n",
      "            Conv2d-9          [-1, 256, 32, 32]          16,384\n",
      "      BatchNorm2d-10          [-1, 256, 32, 32]             512\n",
      "       Bottleneck-11          [-1, 256, 32, 32]               0\n",
      "           Conv2d-12           [-1, 64, 32, 32]          16,384\n",
      "      BatchNorm2d-13           [-1, 64, 32, 32]             128\n",
      "           Conv2d-14           [-1, 64, 32, 32]          36,864\n",
      "      BatchNorm2d-15           [-1, 64, 32, 32]             128\n",
      "           Conv2d-16          [-1, 256, 32, 32]          16,384\n",
      "      BatchNorm2d-17          [-1, 256, 32, 32]             512\n",
      "       Bottleneck-18          [-1, 256, 32, 32]               0\n",
      "           Conv2d-19           [-1, 64, 32, 32]          16,384\n",
      "      BatchNorm2d-20           [-1, 64, 32, 32]             128\n",
      "           Conv2d-21           [-1, 64, 32, 32]          36,864\n",
      "      BatchNorm2d-22           [-1, 64, 32, 32]             128\n",
      "           Conv2d-23          [-1, 256, 32, 32]          16,384\n",
      "      BatchNorm2d-24          [-1, 256, 32, 32]             512\n",
      "       Bottleneck-25          [-1, 256, 32, 32]               0\n",
      "           Conv2d-26          [-1, 128, 32, 32]          32,768\n",
      "      BatchNorm2d-27          [-1, 128, 32, 32]             256\n",
      "           Conv2d-28          [-1, 128, 16, 16]         147,456\n",
      "      BatchNorm2d-29          [-1, 128, 16, 16]             256\n",
      "           Conv2d-30          [-1, 512, 16, 16]          65,536\n",
      "      BatchNorm2d-31          [-1, 512, 16, 16]           1,024\n",
      "           Conv2d-32          [-1, 512, 16, 16]         131,072\n",
      "      BatchNorm2d-33          [-1, 512, 16, 16]           1,024\n",
      "       Bottleneck-34          [-1, 512, 16, 16]               0\n",
      "           Conv2d-35          [-1, 128, 16, 16]          65,536\n",
      "      BatchNorm2d-36          [-1, 128, 16, 16]             256\n",
      "           Conv2d-37          [-1, 128, 16, 16]         147,456\n",
      "      BatchNorm2d-38          [-1, 128, 16, 16]             256\n",
      "           Conv2d-39          [-1, 512, 16, 16]          65,536\n",
      "      BatchNorm2d-40          [-1, 512, 16, 16]           1,024\n",
      "       Bottleneck-41          [-1, 512, 16, 16]               0\n",
      "           Conv2d-42          [-1, 128, 16, 16]          65,536\n",
      "      BatchNorm2d-43          [-1, 128, 16, 16]             256\n",
      "           Conv2d-44          [-1, 128, 16, 16]         147,456\n",
      "      BatchNorm2d-45          [-1, 128, 16, 16]             256\n",
      "           Conv2d-46          [-1, 512, 16, 16]          65,536\n",
      "      BatchNorm2d-47          [-1, 512, 16, 16]           1,024\n",
      "       Bottleneck-48          [-1, 512, 16, 16]               0\n",
      "           Conv2d-49          [-1, 128, 16, 16]          65,536\n",
      "      BatchNorm2d-50          [-1, 128, 16, 16]             256\n",
      "           Conv2d-51          [-1, 128, 16, 16]         147,456\n",
      "      BatchNorm2d-52          [-1, 128, 16, 16]             256\n",
      "           Conv2d-53          [-1, 512, 16, 16]          65,536\n",
      "      BatchNorm2d-54          [-1, 512, 16, 16]           1,024\n",
      "       Bottleneck-55          [-1, 512, 16, 16]               0\n",
      "           Conv2d-56          [-1, 256, 16, 16]         131,072\n",
      "      BatchNorm2d-57          [-1, 256, 16, 16]             512\n",
      "           Conv2d-58            [-1, 256, 8, 8]         589,824\n",
      "      BatchNorm2d-59            [-1, 256, 8, 8]             512\n",
      "           Conv2d-60           [-1, 1024, 8, 8]         262,144\n",
      "      BatchNorm2d-61           [-1, 1024, 8, 8]           2,048\n",
      "           Conv2d-62           [-1, 1024, 8, 8]         524,288\n",
      "      BatchNorm2d-63           [-1, 1024, 8, 8]           2,048\n",
      "       Bottleneck-64           [-1, 1024, 8, 8]               0\n",
      "           Conv2d-65            [-1, 256, 8, 8]         262,144\n",
      "      BatchNorm2d-66            [-1, 256, 8, 8]             512\n",
      "           Conv2d-67            [-1, 256, 8, 8]         589,824\n",
      "      BatchNorm2d-68            [-1, 256, 8, 8]             512\n",
      "           Conv2d-69           [-1, 1024, 8, 8]         262,144\n",
      "      BatchNorm2d-70           [-1, 1024, 8, 8]           2,048\n",
      "       Bottleneck-71           [-1, 1024, 8, 8]               0\n",
      "           Conv2d-72            [-1, 256, 8, 8]         262,144\n",
      "      BatchNorm2d-73            [-1, 256, 8, 8]             512\n",
      "           Conv2d-74            [-1, 256, 8, 8]         589,824\n",
      "      BatchNorm2d-75            [-1, 256, 8, 8]             512\n",
      "           Conv2d-76           [-1, 1024, 8, 8]         262,144\n",
      "      BatchNorm2d-77           [-1, 1024, 8, 8]           2,048\n",
      "       Bottleneck-78           [-1, 1024, 8, 8]               0\n",
      "           Conv2d-79            [-1, 256, 8, 8]         262,144\n",
      "      BatchNorm2d-80            [-1, 256, 8, 8]             512\n",
      "           Conv2d-81            [-1, 256, 8, 8]         589,824\n",
      "      BatchNorm2d-82            [-1, 256, 8, 8]             512\n",
      "           Conv2d-83           [-1, 1024, 8, 8]         262,144\n",
      "      BatchNorm2d-84           [-1, 1024, 8, 8]           2,048\n",
      "       Bottleneck-85           [-1, 1024, 8, 8]               0\n",
      "           Conv2d-86            [-1, 256, 8, 8]         262,144\n",
      "      BatchNorm2d-87            [-1, 256, 8, 8]             512\n",
      "           Conv2d-88            [-1, 256, 8, 8]         589,824\n",
      "      BatchNorm2d-89            [-1, 256, 8, 8]             512\n",
      "           Conv2d-90           [-1, 1024, 8, 8]         262,144\n",
      "      BatchNorm2d-91           [-1, 1024, 8, 8]           2,048\n",
      "       Bottleneck-92           [-1, 1024, 8, 8]               0\n",
      "           Conv2d-93            [-1, 256, 8, 8]         262,144\n",
      "      BatchNorm2d-94            [-1, 256, 8, 8]             512\n",
      "           Conv2d-95            [-1, 256, 8, 8]         589,824\n",
      "      BatchNorm2d-96            [-1, 256, 8, 8]             512\n",
      "           Conv2d-97           [-1, 1024, 8, 8]         262,144\n",
      "      BatchNorm2d-98           [-1, 1024, 8, 8]           2,048\n",
      "       Bottleneck-99           [-1, 1024, 8, 8]               0\n",
      "          Conv2d-100            [-1, 256, 8, 8]         262,144\n",
      "     BatchNorm2d-101            [-1, 256, 8, 8]             512\n",
      "          Conv2d-102            [-1, 256, 8, 8]         589,824\n",
      "     BatchNorm2d-103            [-1, 256, 8, 8]             512\n",
      "          Conv2d-104           [-1, 1024, 8, 8]         262,144\n",
      "     BatchNorm2d-105           [-1, 1024, 8, 8]           2,048\n",
      "      Bottleneck-106           [-1, 1024, 8, 8]               0\n",
      "          Conv2d-107            [-1, 256, 8, 8]         262,144\n",
      "     BatchNorm2d-108            [-1, 256, 8, 8]             512\n",
      "          Conv2d-109            [-1, 256, 8, 8]         589,824\n",
      "     BatchNorm2d-110            [-1, 256, 8, 8]             512\n",
      "          Conv2d-111           [-1, 1024, 8, 8]         262,144\n",
      "     BatchNorm2d-112           [-1, 1024, 8, 8]           2,048\n",
      "      Bottleneck-113           [-1, 1024, 8, 8]               0\n",
      "          Conv2d-114            [-1, 256, 8, 8]         262,144\n",
      "     BatchNorm2d-115            [-1, 256, 8, 8]             512\n",
      "          Conv2d-116            [-1, 256, 8, 8]         589,824\n",
      "     BatchNorm2d-117            [-1, 256, 8, 8]             512\n",
      "          Conv2d-118           [-1, 1024, 8, 8]         262,144\n",
      "     BatchNorm2d-119           [-1, 1024, 8, 8]           2,048\n",
      "      Bottleneck-120           [-1, 1024, 8, 8]               0\n",
      "          Conv2d-121            [-1, 256, 8, 8]         262,144\n",
      "     BatchNorm2d-122            [-1, 256, 8, 8]             512\n",
      "          Conv2d-123            [-1, 256, 8, 8]         589,824\n",
      "     BatchNorm2d-124            [-1, 256, 8, 8]             512\n",
      "          Conv2d-125           [-1, 1024, 8, 8]         262,144\n",
      "     BatchNorm2d-126           [-1, 1024, 8, 8]           2,048\n",
      "      Bottleneck-127           [-1, 1024, 8, 8]               0\n",
      "          Conv2d-128            [-1, 256, 8, 8]         262,144\n",
      "     BatchNorm2d-129            [-1, 256, 8, 8]             512\n",
      "          Conv2d-130            [-1, 256, 8, 8]         589,824\n",
      "     BatchNorm2d-131            [-1, 256, 8, 8]             512\n",
      "          Conv2d-132           [-1, 1024, 8, 8]         262,144\n",
      "     BatchNorm2d-133           [-1, 1024, 8, 8]           2,048\n",
      "      Bottleneck-134           [-1, 1024, 8, 8]               0\n",
      "          Conv2d-135            [-1, 256, 8, 8]         262,144\n",
      "     BatchNorm2d-136            [-1, 256, 8, 8]             512\n",
      "          Conv2d-137            [-1, 256, 8, 8]         589,824\n",
      "     BatchNorm2d-138            [-1, 256, 8, 8]             512\n",
      "          Conv2d-139           [-1, 1024, 8, 8]         262,144\n",
      "     BatchNorm2d-140           [-1, 1024, 8, 8]           2,048\n",
      "      Bottleneck-141           [-1, 1024, 8, 8]               0\n",
      "          Conv2d-142            [-1, 256, 8, 8]         262,144\n",
      "     BatchNorm2d-143            [-1, 256, 8, 8]             512\n",
      "          Conv2d-144            [-1, 256, 8, 8]         589,824\n",
      "     BatchNorm2d-145            [-1, 256, 8, 8]             512\n",
      "          Conv2d-146           [-1, 1024, 8, 8]         262,144\n",
      "     BatchNorm2d-147           [-1, 1024, 8, 8]           2,048\n",
      "      Bottleneck-148           [-1, 1024, 8, 8]               0\n",
      "          Conv2d-149            [-1, 256, 8, 8]         262,144\n",
      "     BatchNorm2d-150            [-1, 256, 8, 8]             512\n",
      "          Conv2d-151            [-1, 256, 8, 8]         589,824\n",
      "     BatchNorm2d-152            [-1, 256, 8, 8]             512\n",
      "          Conv2d-153           [-1, 1024, 8, 8]         262,144\n",
      "     BatchNorm2d-154           [-1, 1024, 8, 8]           2,048\n",
      "      Bottleneck-155           [-1, 1024, 8, 8]               0\n",
      "          Conv2d-156            [-1, 256, 8, 8]         262,144\n",
      "     BatchNorm2d-157            [-1, 256, 8, 8]             512\n",
      "          Conv2d-158            [-1, 256, 8, 8]         589,824\n",
      "     BatchNorm2d-159            [-1, 256, 8, 8]             512\n",
      "          Conv2d-160           [-1, 1024, 8, 8]         262,144\n",
      "     BatchNorm2d-161           [-1, 1024, 8, 8]           2,048\n",
      "      Bottleneck-162           [-1, 1024, 8, 8]               0\n",
      "          Conv2d-163            [-1, 256, 8, 8]         262,144\n",
      "     BatchNorm2d-164            [-1, 256, 8, 8]             512\n",
      "          Conv2d-165            [-1, 256, 8, 8]         589,824\n",
      "     BatchNorm2d-166            [-1, 256, 8, 8]             512\n",
      "          Conv2d-167           [-1, 1024, 8, 8]         262,144\n",
      "     BatchNorm2d-168           [-1, 1024, 8, 8]           2,048\n",
      "      Bottleneck-169           [-1, 1024, 8, 8]               0\n",
      "          Conv2d-170            [-1, 256, 8, 8]         262,144\n",
      "     BatchNorm2d-171            [-1, 256, 8, 8]             512\n",
      "          Conv2d-172            [-1, 256, 8, 8]         589,824\n",
      "     BatchNorm2d-173            [-1, 256, 8, 8]             512\n",
      "          Conv2d-174           [-1, 1024, 8, 8]         262,144\n",
      "     BatchNorm2d-175           [-1, 1024, 8, 8]           2,048\n",
      "      Bottleneck-176           [-1, 1024, 8, 8]               0\n",
      "          Conv2d-177            [-1, 256, 8, 8]         262,144\n",
      "     BatchNorm2d-178            [-1, 256, 8, 8]             512\n",
      "          Conv2d-179            [-1, 256, 8, 8]         589,824\n",
      "     BatchNorm2d-180            [-1, 256, 8, 8]             512\n",
      "          Conv2d-181           [-1, 1024, 8, 8]         262,144\n",
      "     BatchNorm2d-182           [-1, 1024, 8, 8]           2,048\n",
      "      Bottleneck-183           [-1, 1024, 8, 8]               0\n",
      "          Conv2d-184            [-1, 256, 8, 8]         262,144\n",
      "     BatchNorm2d-185            [-1, 256, 8, 8]             512\n",
      "          Conv2d-186            [-1, 256, 8, 8]         589,824\n",
      "     BatchNorm2d-187            [-1, 256, 8, 8]             512\n",
      "          Conv2d-188           [-1, 1024, 8, 8]         262,144\n",
      "     BatchNorm2d-189           [-1, 1024, 8, 8]           2,048\n",
      "      Bottleneck-190           [-1, 1024, 8, 8]               0\n",
      "          Conv2d-191            [-1, 256, 8, 8]         262,144\n",
      "     BatchNorm2d-192            [-1, 256, 8, 8]             512\n",
      "          Conv2d-193            [-1, 256, 8, 8]         589,824\n",
      "     BatchNorm2d-194            [-1, 256, 8, 8]             512\n",
      "          Conv2d-195           [-1, 1024, 8, 8]         262,144\n",
      "     BatchNorm2d-196           [-1, 1024, 8, 8]           2,048\n",
      "      Bottleneck-197           [-1, 1024, 8, 8]               0\n",
      "          Conv2d-198            [-1, 256, 8, 8]         262,144\n",
      "     BatchNorm2d-199            [-1, 256, 8, 8]             512\n",
      "          Conv2d-200            [-1, 256, 8, 8]         589,824\n",
      "     BatchNorm2d-201            [-1, 256, 8, 8]             512\n",
      "          Conv2d-202           [-1, 1024, 8, 8]         262,144\n",
      "     BatchNorm2d-203           [-1, 1024, 8, 8]           2,048\n",
      "      Bottleneck-204           [-1, 1024, 8, 8]               0\n",
      "          Conv2d-205            [-1, 256, 8, 8]         262,144\n",
      "     BatchNorm2d-206            [-1, 256, 8, 8]             512\n",
      "          Conv2d-207            [-1, 256, 8, 8]         589,824\n",
      "     BatchNorm2d-208            [-1, 256, 8, 8]             512\n",
      "          Conv2d-209           [-1, 1024, 8, 8]         262,144\n",
      "     BatchNorm2d-210           [-1, 1024, 8, 8]           2,048\n",
      "      Bottleneck-211           [-1, 1024, 8, 8]               0\n",
      "          Conv2d-212            [-1, 256, 8, 8]         262,144\n",
      "     BatchNorm2d-213            [-1, 256, 8, 8]             512\n",
      "          Conv2d-214            [-1, 256, 8, 8]         589,824\n",
      "     BatchNorm2d-215            [-1, 256, 8, 8]             512\n",
      "          Conv2d-216           [-1, 1024, 8, 8]         262,144\n",
      "     BatchNorm2d-217           [-1, 1024, 8, 8]           2,048\n",
      "      Bottleneck-218           [-1, 1024, 8, 8]               0\n",
      "          Conv2d-219            [-1, 512, 8, 8]         524,288\n",
      "     BatchNorm2d-220            [-1, 512, 8, 8]           1,024\n",
      "          Conv2d-221            [-1, 512, 4, 4]       2,359,296\n",
      "     BatchNorm2d-222            [-1, 512, 4, 4]           1,024\n",
      "          Conv2d-223           [-1, 2048, 4, 4]       1,048,576\n",
      "     BatchNorm2d-224           [-1, 2048, 4, 4]           4,096\n",
      "          Conv2d-225           [-1, 2048, 4, 4]       2,097,152\n",
      "     BatchNorm2d-226           [-1, 2048, 4, 4]           4,096\n",
      "      Bottleneck-227           [-1, 2048, 4, 4]               0\n",
      "          Conv2d-228            [-1, 512, 4, 4]       1,048,576\n",
      "     BatchNorm2d-229            [-1, 512, 4, 4]           1,024\n",
      "          Conv2d-230            [-1, 512, 4, 4]       2,359,296\n",
      "     BatchNorm2d-231            [-1, 512, 4, 4]           1,024\n",
      "          Conv2d-232           [-1, 2048, 4, 4]       1,048,576\n",
      "     BatchNorm2d-233           [-1, 2048, 4, 4]           4,096\n",
      "      Bottleneck-234           [-1, 2048, 4, 4]               0\n",
      "          Conv2d-235            [-1, 512, 4, 4]       1,048,576\n",
      "     BatchNorm2d-236            [-1, 512, 4, 4]           1,024\n",
      "          Conv2d-237            [-1, 512, 4, 4]       2,359,296\n",
      "     BatchNorm2d-238            [-1, 512, 4, 4]           1,024\n",
      "          Conv2d-239           [-1, 2048, 4, 4]       1,048,576\n",
      "     BatchNorm2d-240           [-1, 2048, 4, 4]           4,096\n",
      "      Bottleneck-241           [-1, 2048, 4, 4]               0\n",
      "          Linear-242                    [-1, 8]          16,392\n",
      "================================================================\n",
      "Total params: 42,508,872\n",
      "Trainable params: 42,508,872\n",
      "Non-trainable params: 0\n",
      "----------------------------------------------------------------\n",
      "Input size (MB): 0.01\n",
      "Forward/backward pass size (MB): 100.13\n",
      "Params size (MB): 162.16\n",
      "Estimated Total Size (MB): 262.30\n",
      "----------------------------------------------------------------\n"
     ]
    }
   ],
   "source": [
    "model = ResNet101()\n",
    "from torchsummary import summary\n",
    "summary(model.cuda(), (3,32,32))\n",
    "criterion = nn.CrossEntropyLoss()\n",
    "optimizer = optim.SGD(model.parameters(), lr=0.01, momentum=0.9, weight_decay=5e-4)"
   ]
  },
  {
   "cell_type": "code",
   "execution_count": 249,
   "metadata": {
    "id": "2kqxeTZixgZ5"
   },
   "outputs": [],
   "source": [
    "class TrainModel():\n",
    "    def __init__(self,model, criterion, optimizer, trainloader, testloader, num_epochs=5):\n",
    "        \n",
    "        self.device = 'cuda' if torch.cuda.is_available() else 'cpu'\n",
    "\n",
    "        self.model = model.to(self.device)\n",
    "        self.trainloader =trainloader\n",
    "        self.testloader = testloader\n",
    "        self.criterion = criterion\n",
    "        self.optimizer = optimizer\n",
    "        self.num_epochs = num_epochs\n",
    "        self.best_acc_wts = copy.deepcopy(self.model.state_dict())\n",
    "        self.best_acc =0.0\n",
    "\n",
    "        \n",
    "        for epoch in range(1, self.num_epochs+1):\n",
    "            print('Epoch {}/{}'.format(epoch, self.num_epochs))\n",
    "            self.train()\n",
    "            self.test()\n",
    "\n",
    "        model.load_state_dict(self.best_acc_wts)\n",
    "\n",
    "    def train(self):\n",
    "        self.model.train()\n",
    "        train_loss = 0\n",
    "        correct = 0\n",
    "        total = 0\n",
    "        for batch_idx, (inputs, targets) in enumerate(self.trainloader):\n",
    "            inputs, targets = inputs.to(self.device), targets.to(self.device)\n",
    "            self.optimizer.zero_grad()\n",
    "            outputs = self.model(inputs)\n",
    "            loss = self.criterion(outputs, targets.long())\n",
    "            loss.backward()\n",
    "            self.optimizer.step()\n",
    "\n",
    "            train_loss += loss.data.cpu().numpy()\n",
    "            _, predicted = outputs.max(1)\n",
    "            total += targets.size(0)\n",
    "            correct += predicted.eq(targets).sum().item()\n",
    "\n",
    "        epoch_loss = train_loss /len(self.trainloader)\n",
    "        epoch_acc = correct / total\n",
    "        print('train | Loss: {:.4f} Acc: {:.4f}'.format( epoch_loss, epoch_acc))\n",
    "\n",
    "    def test(self):\n",
    "        global best_acc\n",
    "        self.model.eval()\n",
    "        test_loss = 0\n",
    "        correct = 0\n",
    "        total = 0\n",
    "        with torch.no_grad():\n",
    "            for batch_idx, (inputs, targets) in enumerate(self.testloader):\n",
    "                inputs, targets = inputs.to(self.device), targets.to(self.device)\n",
    "                outputs = self.model(inputs)\n",
    "                loss = self.criterion(outputs, targets.long())\n",
    "\n",
    "                test_loss += loss.data.cpu().numpy()\n",
    "                _, predicted = outputs.max(1)\n",
    "                total += targets.size(0)\n",
    "                correct += predicted.eq(targets).sum().item()\n",
    "\n",
    "            epoch_loss = test_loss /len(self.testloader)\n",
    "            epoch_acc = correct / total\n",
    "            print('test | Loss: {:.4f} Acc: {:.4f}'.format( epoch_loss, epoch_acc))\n",
    "            if epoch_acc >= self.best_acc:\n",
    "                self.best_acc = epoch_acc\n",
    "                self.best_acc_wts = copy.deepcopy(self.model.state_dict())"
   ]
  },
  {
   "cell_type": "code",
   "execution_count": 250,
   "metadata": {
    "colab": {
     "base_uri": "https://localhost:8080/"
    },
    "id": "xCO6o34YxgXT",
    "outputId": "d9cec9c6-89d9-4d0b-9352-f468e57e9992"
   },
   "outputs": [
    {
     "name": "stdout",
     "output_type": "stream",
     "text": [
      "Epoch 1/10\n",
      "train | Loss: 3.9414 Acc: 0.1375\n",
      "test | Loss: 8.2111 Acc: 0.1000\n",
      "Epoch 2/10\n",
      "train | Loss: 2.3178 Acc: 0.1573\n",
      "test | Loss: 7.6228 Acc: 0.1333\n",
      "Epoch 3/10\n",
      "train | Loss: 2.2844 Acc: 0.1510\n",
      "test | Loss: 3.8025 Acc: 0.0667\n",
      "Epoch 4/10\n",
      "train | Loss: 2.2168 Acc: 0.1313\n",
      "test | Loss: 2.1896 Acc: 0.1417\n",
      "Epoch 5/10\n",
      "train | Loss: 2.1740 Acc: 0.1490\n",
      "test | Loss: 2.7026 Acc: 0.1750\n",
      "Epoch 6/10\n",
      "train | Loss: 2.1248 Acc: 0.1604\n",
      "test | Loss: 4.3020 Acc: 0.1917\n",
      "Epoch 7/10\n",
      "train | Loss: 2.0946 Acc: 0.1875\n",
      "test | Loss: 4.3341 Acc: 0.1750\n",
      "Epoch 8/10\n",
      "train | Loss: 2.0551 Acc: 0.1771\n",
      "test | Loss: 2.8533 Acc: 0.1500\n",
      "Epoch 9/10\n",
      "train | Loss: 2.0077 Acc: 0.2156\n",
      "test | Loss: 8.8263 Acc: 0.1333\n",
      "Epoch 10/10\n",
      "train | Loss: 2.0280 Acc: 0.2010\n",
      "test | Loss: 2.4327 Acc: 0.2000\n"
     ]
    },
    {
     "data": {
      "text/plain": [
       "<__main__.TrainModel at 0x7ff9ee371be0>"
      ]
     },
     "execution_count": 250,
     "metadata": {},
     "output_type": "execute_result"
    }
   ],
   "source": [
    "TrainModel(model, criterion=criterion, optimizer=optimizer,trainloader=trainloader,testloader=validloader,num_epochs=10)"
   ]
  },
  {
   "cell_type": "code",
   "execution_count": 251,
   "metadata": {
    "colab": {
     "base_uri": "https://localhost:8080/"
    },
    "id": "vIHgFwkSxgUl",
    "outputId": "325eac01-018d-4820-bf97-a1964df3986b"
   },
   "outputs": [
    {
     "name": "stdout",
     "output_type": "stream",
     "text": [
      "test | Loss: 2.3763 Acc: 0.1500\n"
     ]
    }
   ],
   "source": [
    "def test(model,testloader,criterion):\n",
    "        model.eval()\n",
    "        test_loss = 0\n",
    "        correct = 0\n",
    "        total = 0\n",
    "        device = 'cuda' if torch.cuda.is_available() else 'cpu'\n",
    "        with torch.no_grad():\n",
    "            for batch_idx, (inputs, targets) in enumerate(testloader):\n",
    "                inputs,targets = inputs.to(device), targets.to(device)\n",
    "                outputs = model(inputs)\n",
    "                loss = criterion(outputs, targets.long())     \n",
    "\n",
    "                test_loss += loss.data.cpu().numpy()\n",
    "                _, predicted = outputs.max(1)\n",
    "                total += targets.size(0)\n",
    "                correct += predicted.eq(targets).sum().item()\n",
    "                \n",
    "            epoch_loss = test_loss / len(testloader)\n",
    "            epoch_acc = correct / total\n",
    "            print('test | Loss: {:.4f} Acc: {:.4f}'.format( epoch_loss, epoch_acc))\n",
    "\n",
    "test(model,testloader,criterion)"
   ]
  },
  {
   "cell_type": "code",
   "execution_count": null,
   "metadata": {},
   "outputs": [],
   "source": []
  },
  {
   "cell_type": "code",
   "execution_count": null,
   "metadata": {},
   "outputs": [],
   "source": []
  },
  {
   "cell_type": "code",
   "execution_count": null,
   "metadata": {},
   "outputs": [],
   "source": []
  },
  {
   "cell_type": "code",
   "execution_count": null,
   "metadata": {},
   "outputs": [],
   "source": []
  },
  {
   "cell_type": "code",
   "execution_count": null,
   "metadata": {},
   "outputs": [],
   "source": []
  },
  {
   "cell_type": "code",
   "execution_count": null,
   "metadata": {},
   "outputs": [],
   "source": []
  },
  {
   "cell_type": "code",
   "execution_count": null,
   "metadata": {},
   "outputs": [],
   "source": []
  },
  {
   "cell_type": "code",
   "execution_count": null,
   "metadata": {
    "id": "oXjeXa5pxgR5"
   },
   "outputs": [],
   "source": []
  },
  {
   "cell_type": "code",
   "execution_count": null,
   "metadata": {
    "id": "0CGIIch3xgPY"
   },
   "outputs": [],
   "source": []
  },
  {
   "cell_type": "markdown",
   "metadata": {
    "id": "vH8g8dnk5rh4"
   },
   "source": [
    "# 실행 오류 코드"
   ]
  },
  {
   "cell_type": "code",
   "execution_count": 203,
   "metadata": {},
   "outputs": [
    {
     "data": {
      "text/plain": [
       "device(type='cuda')"
      ]
     },
     "execution_count": 203,
     "metadata": {},
     "output_type": "execute_result"
    }
   ],
   "source": [
    "device = torch.device('cuda' if torch.cuda.is_available() else 'cpu')\n",
    "device"
   ]
  },
  {
   "cell_type": "markdown",
   "metadata": {
    "id": "764nvA3E17tN"
   },
   "source": [
    "## Model Compile"
   ]
  },
  {
   "cell_type": "code",
   "execution_count": 204,
   "metadata": {
    "id": "UBnNRi4K0eCo"
   },
   "outputs": [],
   "source": [
    "learning_rate = 0.001 \n",
    "# 손실함수\n",
    "criterion = nn.CrossEntropyLoss()\n",
    "# 옵티마이저(경사하강법, 최적화 함수)\n",
    "# optimizer = optim.SGD(model.parameters(), lr = learning_rate)\n",
    "# 규제의 강도 설정 weight_decay\n",
    "# optimizer = optim.Adam(model.parameters(), lr = learning_rate, weight_decay=0.001)\n",
    "optimizer = optim.Adam(model.parameters(), lr = learning_rate)"
   ]
  },
  {
   "cell_type": "code",
   "execution_count": 205,
   "metadata": {
    "id": "rFEHCdNR0eAB"
   },
   "outputs": [],
   "source": [
    "# Learning Rate Schedule\n",
    "# https://pytorch.org/docs/stable/generated/torch.optim.lr_scheduler.ReduceLROnPlateau.html\n",
    "\n",
    "#monitoring 하고 있는 값(valid_loss)이 patience 기간동안(onPlateau) 줄어들지 않을때 lr에 factor(0.1)를 곱해준다.\n",
    "scheduler = optim.lr_scheduler.ReduceLROnPlateau(optimizer, 'min', patience=7, factor=0.1, verbose=True)"
   ]
  },
  {
   "cell_type": "markdown",
   "metadata": {
    "id": "XkZsmoBa2b0p"
   },
   "source": [
    "## Model Training"
   ]
  },
  {
   "cell_type": "code",
   "execution_count": 206,
   "metadata": {
    "id": "xntvxkbA47U5"
   },
   "outputs": [],
   "source": [
    "# torch.no_grad()\n",
    "# https://pytorch.org/docs/stable/generated/torch.no_grad.html\n",
    "# Context-manager that disabled gradient calculation.\n",
    "\n",
    "# Disabling gradient calculation is useful for inference, when you are sure that you will not call Tensor.backward(). \n",
    "# It will reduce memory consumption for computations that would otherwise have requires_grad=True."
   ]
  },
  {
   "cell_type": "code",
   "execution_count": 207,
   "metadata": {
    "id": "BZloQuZwvwdC"
   },
   "outputs": [],
   "source": [
    "def validation(model, validloader, criterion):\n",
    "  # 전방향 예측후 나온 점수(logits)의 최대값을 최종 예측으로 준비\n",
    "  # 이 최종 예측과 정답을 비교\n",
    "  # 전체 중 맞은 것의 개수 비율을 정확도(accuracy)로 계산\n",
    "  valid_accuracy = 0\n",
    "  valid_loss = 0\n",
    "\n",
    "  # 전방향 예측을 구할 때는 gradient가 필요가 없음\n",
    "  with torch.no_grad():\n",
    "    for images, labels in validloader: # 10000개의 데이터에 대해 16개씩(미니배치 사이즈) 10000/16번을 iterations\n",
    "      # 0. Data를 GPU로 보내기\n",
    "      images, labels = images.to(device), labels.to(device)\n",
    "\n",
    "      # 1. 입력데이터 준비\n",
    "      # not Flatten!!\n",
    "      # images.resize_(images.size()[0], 784) # 16, 1, 28, 28\n",
    "      \n",
    "      # 2. 전방향(Forward) 예측 \n",
    "      logits = model.forward(images) # 점수 반환\n",
    "      _, preds = torch.max(logits, 1) # 16개에 대한 최종 예측\n",
    "      # preds= probs.max(dim=1)[1] \n",
    "      correct = (preds == labels).sum()\n",
    "\n",
    "      accuracy = correct / images.shape[0]\n",
    "      loss = criterion(logits, labels) # 16개에 대한 loss\n",
    "      \n",
    "      valid_accuracy += accuracy\n",
    "      valid_loss += loss.item() # tensor 값을 꺼내옴\n",
    "    \n",
    "\n",
    "  return valid_loss, valid_accuracy # validloader 전체 대한 총 loss, 총 accuracy"
   ]
  },
  {
   "cell_type": "code",
   "execution_count": 208,
   "metadata": {
    "id": "fzOTlP5ivwad"
   },
   "outputs": [],
   "source": [
    "# 파이토치에서 텐서보드 사용하기\n",
    "# https://pytorch.org/tutorials/recipes/recipes/tensorboard_with_pytorch.html"
   ]
  },
  {
   "cell_type": "code",
   "execution_count": 209,
   "metadata": {
    "id": "DH_VQk0gvwX7"
   },
   "outputs": [],
   "source": [
    "from torch.utils.tensorboard import SummaryWriter\n",
    "\n",
    "writer  = SummaryWriter()"
   ]
  },
  {
   "cell_type": "code",
   "execution_count": 210,
   "metadata": {
    "id": "lT05fjYUvwVR"
   },
   "outputs": [],
   "source": [
    "def train(model, epochs, criterion, optimizer):\n",
    "  steps = 0\n",
    "  min_loss = 10000\n",
    "  max_accuracy = 0\n",
    "\n",
    "  trigger = 0\n",
    "  patience = 13 # for Early stopping\n",
    "\n",
    "  # 1 에폭(epoch)당 반복수\n",
    "  #steps_per_epoch = len(trainset)/batch_size # 2500 iterations\n",
    "  steps_per_epoch = len(trainloader) # 2500 iterations\n",
    "\n",
    "  for epoch in range(epochs):\n",
    "    model.train()\n",
    "    train_loss = 0\n",
    "    for images, labels in iter(trainloader): # 이터레이터로부터 미니배치 16개씩을 가져와 images, labels에 준비\n",
    "      steps += 1\n",
    "      # 0. Data를 GPU로 보내기\n",
    "      images, labels = images.to(device), labels.to(device)\n",
    "\n",
    "      # 1. 입력 데이터 준비\n",
    "      # not Flatten!!\n",
    "      # images.resize_(images.size()[0], 784) # 16, 1, 28, 28\n",
    "\n",
    "      # 2. 전방향(Forward) 예측 \n",
    "      outputs = model.forward(images) # 예측\n",
    "      loss = criterion(outputs, labels) # 예측과 결과를 통해 Cross Entropy Loss 반환\n",
    "\n",
    "      # 3. 역방향(Backward) 오차(Gradient) 전파\n",
    "      optimizer.zero_grad() # 파이토치에서 gradient가 누적되지 않게 하기 위해\n",
    "      loss.backward()\n",
    "\n",
    "      # 4. 경사하강법으로 모델 파라미터 업데이트\n",
    "      optimizer.step() # W <- W -lr*Gradient\n",
    "\n",
    "      train_loss += loss.item()\n",
    "      if (steps % steps_per_epoch) == 0: # step : 2500, .... (epoch 마다)\n",
    "        model.eval() # 배치 정규화, 드롭아웃이 적용될 때는 model.forward 연산이 training때와 다르므로 반드시 설정\n",
    "        valid_loss, valid_accuracy = validation(model, valset, criterion)\n",
    "\n",
    "        # tensorboad 시각화를 위한 로그 이벤트 등록\n",
    "        writer.add_scalar(\"Loss/train\", train_loss/len(trainloader), epoch)\n",
    "        writer.add_scalar(\"Loss/valid\", valid_loss/len(valset), epoch)\n",
    "        writer.add_scalars(\"Loss/train and valid\",\n",
    "                          {'train' : train_loss/len(trainloader),\n",
    "                          'valid' : valid_loss/len(valset)}, epoch)\n",
    "        \n",
    "        writer.add_scalar(\"Valid Accuracy\", valid_accuracy/len(valset), epoch)\n",
    "\n",
    "\n",
    "        print('Epoch : {}/{}.....'.format(epoch+1, epochs),\n",
    "              'Train Loss : {:.3f}'.format(train_loss/len(trainloader)),\n",
    "              'Valid Loss : {:.3f}'.format(valid_loss/len(valset)),\n",
    "              'Valid Accuracy : {:.3f}'.format(valid_accuracy/len(valset)))\n",
    "        \n",
    "        # Best model 저장\n",
    "        # option 1\n",
    "        # if valid_loss < min_loss:\n",
    "        #   min_loss = valid_loss\n",
    "        #   torch.save(model.state_dict(), 'best_checkpoint.pth')\n",
    "\n",
    "        # option 2\n",
    "        if valid_accuracy > max_accuracy: \n",
    "          max_accuracy = valid_accuracy\n",
    "          torch.save(model.state_dict(), 'best_checkpoint.pth')\n",
    "\n",
    "        # Early Stopping (조기 종료)\n",
    "        if valid_loss > min_loss:\n",
    "          trigger += 1 # valid loss가 min_loss 를 갱신하지 못할때마다 증가\n",
    "          print('trigger : ', trigger )\n",
    "          if trigger > patience:\n",
    "            print('Early Stopping!!!')\n",
    "            print('Traning step is finished!!')\n",
    "            writer.flush()  \n",
    "            return   \n",
    "        else:\n",
    "          trigger = 0\n",
    "          min_loss = valid_loss\n",
    "\n",
    "\n",
    "        train_loss = 0\n",
    "        model.train()\n",
    "\n",
    "        # Learning Rate Scheduler\n",
    "        scheduler.step(valid_loss)\n",
    "\n",
    "  writer.flush()   "
   ]
  },
  {
   "cell_type": "code",
   "execution_count": 211,
   "metadata": {
    "id": "jrE1XvUB4WhM"
   },
   "outputs": [],
   "source": [
    "import torch, gc\n",
    "gc.collect()\n",
    "torch.cuda.empty_cache()"
   ]
  },
  {
   "cell_type": "code",
   "execution_count": 212,
   "metadata": {
    "colab": {
     "base_uri": "https://localhost:8080/",
     "height": 345
    },
    "id": "4qNOQB0EvwSL",
    "outputId": "5bc53eee-ec58-4f3c-a029-d901a027a543"
   },
   "outputs": [
    {
     "ename": "AttributeError",
     "evalue": "'int' object has no attribute 'to'",
     "output_type": "error",
     "traceback": [
      "\u001b[0;31m---------------------------------------------------------------------------\u001b[0m",
      "\u001b[0;31mAttributeError\u001b[0m                            Traceback (most recent call last)",
      "\u001b[0;32m/tmp/ipykernel_96837/1577474749.py\u001b[0m in \u001b[0;36m<module>\u001b[0;34m\u001b[0m\n\u001b[1;32m      1\u001b[0m \u001b[0mepochs\u001b[0m\u001b[0;34m=\u001b[0m\u001b[0;36m15\u001b[0m\u001b[0;34m\u001b[0m\u001b[0;34m\u001b[0m\u001b[0m\n\u001b[0;32m----> 2\u001b[0;31m \u001b[0mtrain\u001b[0m\u001b[0;34m(\u001b[0m\u001b[0mmodel\u001b[0m\u001b[0;34m,\u001b[0m \u001b[0mepochs\u001b[0m\u001b[0;34m,\u001b[0m \u001b[0mcriterion\u001b[0m\u001b[0;34m,\u001b[0m \u001b[0moptimizer\u001b[0m\u001b[0;34m)\u001b[0m\u001b[0;34m\u001b[0m\u001b[0;34m\u001b[0m\u001b[0m\n\u001b[0m",
      "\u001b[0;32m/tmp/ipykernel_96837/1651072349.py\u001b[0m in \u001b[0;36mtrain\u001b[0;34m(model, epochs, criterion, optimizer)\u001b[0m\n\u001b[1;32m     37\u001b[0m       \u001b[0;32mif\u001b[0m \u001b[0;34m(\u001b[0m\u001b[0msteps\u001b[0m \u001b[0;34m%\u001b[0m \u001b[0msteps_per_epoch\u001b[0m\u001b[0;34m)\u001b[0m \u001b[0;34m==\u001b[0m \u001b[0;36m0\u001b[0m\u001b[0;34m:\u001b[0m \u001b[0;31m# step : 2500, .... (epoch 마다)\u001b[0m\u001b[0;34m\u001b[0m\u001b[0;34m\u001b[0m\u001b[0m\n\u001b[1;32m     38\u001b[0m         \u001b[0mmodel\u001b[0m\u001b[0;34m.\u001b[0m\u001b[0meval\u001b[0m\u001b[0;34m(\u001b[0m\u001b[0;34m)\u001b[0m \u001b[0;31m# 배치 정규화, 드롭아웃이 적용될 때는 model.forward 연산이 training때와 다르므로 반드시 설정\u001b[0m\u001b[0;34m\u001b[0m\u001b[0;34m\u001b[0m\u001b[0m\n\u001b[0;32m---> 39\u001b[0;31m         \u001b[0mvalid_loss\u001b[0m\u001b[0;34m,\u001b[0m \u001b[0mvalid_accuracy\u001b[0m \u001b[0;34m=\u001b[0m \u001b[0mvalidation\u001b[0m\u001b[0;34m(\u001b[0m\u001b[0mmodel\u001b[0m\u001b[0;34m,\u001b[0m \u001b[0mvalset\u001b[0m\u001b[0;34m,\u001b[0m \u001b[0mcriterion\u001b[0m\u001b[0;34m)\u001b[0m\u001b[0;34m\u001b[0m\u001b[0;34m\u001b[0m\u001b[0m\n\u001b[0m\u001b[1;32m     40\u001b[0m \u001b[0;34m\u001b[0m\u001b[0m\n\u001b[1;32m     41\u001b[0m         \u001b[0;31m# tensorboad 시각화를 위한 로그 이벤트 등록\u001b[0m\u001b[0;34m\u001b[0m\u001b[0;34m\u001b[0m\u001b[0;34m\u001b[0m\u001b[0m\n",
      "\u001b[0;32m/tmp/ipykernel_96837/1438119679.py\u001b[0m in \u001b[0;36mvalidation\u001b[0;34m(model, validloader, criterion)\u001b[0m\n\u001b[1;32m     10\u001b[0m     \u001b[0;32mfor\u001b[0m \u001b[0mimages\u001b[0m\u001b[0;34m,\u001b[0m \u001b[0mlabels\u001b[0m \u001b[0;32min\u001b[0m \u001b[0mvalidloader\u001b[0m\u001b[0;34m:\u001b[0m \u001b[0;31m# 10000개의 데이터에 대해 16개씩(미니배치 사이즈) 10000/16번을 iterations\u001b[0m\u001b[0;34m\u001b[0m\u001b[0;34m\u001b[0m\u001b[0m\n\u001b[1;32m     11\u001b[0m       \u001b[0;31m# 0. Data를 GPU로 보내기\u001b[0m\u001b[0;34m\u001b[0m\u001b[0;34m\u001b[0m\u001b[0;34m\u001b[0m\u001b[0m\n\u001b[0;32m---> 12\u001b[0;31m       \u001b[0mimages\u001b[0m\u001b[0;34m,\u001b[0m \u001b[0mlabels\u001b[0m \u001b[0;34m=\u001b[0m \u001b[0mimages\u001b[0m\u001b[0;34m.\u001b[0m\u001b[0mto\u001b[0m\u001b[0;34m(\u001b[0m\u001b[0mdevice\u001b[0m\u001b[0;34m)\u001b[0m\u001b[0;34m,\u001b[0m \u001b[0mlabels\u001b[0m\u001b[0;34m.\u001b[0m\u001b[0mto\u001b[0m\u001b[0;34m(\u001b[0m\u001b[0mdevice\u001b[0m\u001b[0;34m)\u001b[0m\u001b[0;34m\u001b[0m\u001b[0;34m\u001b[0m\u001b[0m\n\u001b[0m\u001b[1;32m     13\u001b[0m \u001b[0;34m\u001b[0m\u001b[0m\n\u001b[1;32m     14\u001b[0m       \u001b[0;31m# 1. 입력데이터 준비\u001b[0m\u001b[0;34m\u001b[0m\u001b[0;34m\u001b[0m\u001b[0;34m\u001b[0m\u001b[0m\n",
      "\u001b[0;31mAttributeError\u001b[0m: 'int' object has no attribute 'to'"
     ]
    }
   ],
   "source": [
    "epochs=15\n",
    "train(model, epochs, criterion, optimizer)"
   ]
  }
 ],
 "metadata": {
  "accelerator": "GPU",
  "colab": {
   "provenance": []
  },
  "gpuClass": "standard",
  "kernelspec": {
   "display_name": "dl",
   "language": "python",
   "name": "dl"
  },
  "language_info": {
   "codemirror_mode": {
    "name": "ipython",
    "version": 3
   },
   "file_extension": ".py",
   "mimetype": "text/x-python",
   "name": "python",
   "nbconvert_exporter": "python",
   "pygments_lexer": "ipython3",
   "version": "3.8.16"
  }
 },
 "nbformat": 4,
 "nbformat_minor": 1
}
